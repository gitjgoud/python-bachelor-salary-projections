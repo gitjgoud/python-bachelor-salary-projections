{
 "cells": [
  {
   "cell_type": "code",
   "execution_count": 59,
   "id": "d9699bb1",
   "metadata": {},
   "outputs": [],
   "source": [
    "import numpy as np\n",
    "import pandas as pd\n",
    "import re"
   ]
  },
  {
   "cell_type": "markdown",
   "id": "8ec816ab",
   "metadata": {},
   "source": [
    "Build the Avg_Salary_By_Discipline table"
   ]
  },
  {
   "cell_type": "code",
   "execution_count": null,
   "id": "a56ff633",
   "metadata": {},
   "outputs": [],
   "source": [
    "#convert discrete year text files into one CSV"
   ]
  },
  {
   "cell_type": "code",
   "execution_count": 1,
   "id": "cd88484c",
   "metadata": {},
   "outputs": [
    {
     "name": "stdout",
     "output_type": "stream",
     "text": [
      "Broad Category 2015 Average Salary Responses\r",
      "\r\n",
      "Engineering $62,998 571\r",
      "\r\n",
      "Computer Science $61,287 222\r",
      "\r\n",
      "Math & Sciences $56,171 98\r",
      "\r\n",
      "Business $51,508 631\r",
      "\r\n",
      "Agriculture & Natural Resources $51,220 20\r",
      "\r\n",
      "Healthcare $50,839 15\r",
      "\r\n",
      "Communications $49,395 77\r",
      "\r\n",
      "Social Sciences $49,047 92\r",
      "\r\n",
      "Humanities $45,042 58"
     ]
    }
   ],
   "source": [
    "!cat 2015Avg.txt"
   ]
  },
  {
   "cell_type": "code",
   "execution_count": 225,
   "id": "84006cec",
   "metadata": {},
   "outputs": [
    {
     "name": "stdout",
     "output_type": "stream",
     "text": [
      "[['Broad Category 2015 Average Salary Responses\\n'], ['Engineering ', '62,998 571\\n'], ['Computer Science ', '61,287 222\\n'], ['Math & Sciences ', '56,171 98\\n'], ['Business ', '51,508 631\\n'], ['Agriculture & Natural Resources ', '51,220 20\\n'], ['Healthcare ', '50,839 15\\n'], ['Communications ', '49,395 77\\n'], ['Social Sciences ', '49,047 92\\n'], ['Humanities ', '45,042 58']]\n",
      "{'Engineering': 62998, 'Computer Science': 61287, 'Math & Sciences': 56171, 'Business': 51508, 'Agriculture & Natural Resources': 51220, 'Healthcare': 50839, 'Communications': 49395, 'Social Sciences': 49047, 'Humanities': 45042}\n"
     ]
    }
   ],
   "source": [
    "#extract category names as dictionary keys\n",
    "\n",
    "filename = '2015Avg.txt'\n",
    "regpat = '^[0-9]+,[0-9]+'\n",
    "avg_dict['Year'] = filename[:4]\n",
    "avg_lst = []\n",
    "avg_dict = {}\n",
    "\n",
    "with open(filename, 'r') as f:\n",
    "    lines = f.readlines()\n",
    "    for line in lines: \n",
    "        avg_lst.append(line.split('$'))\n",
    "\n",
    "for i in range (1,len(avg_lst)):\n",
    "    salary = avg_lst[i][1]\n",
    "    salary = int(re.search(regpat,salary).group(0).replace(',',''))\n",
    "    avg_dict[avg_lst[i][0].strip()] = salary    \n",
    "    \n",
    "        \n",
    "print(avg_lst)\n",
    "print(avg_dict)\n"
   ]
  },
  {
   "cell_type": "code",
   "execution_count": 213,
   "id": "11084073",
   "metadata": {},
   "outputs": [
    {
     "name": "stdout",
     "output_type": "stream",
     "text": [
      "<re.Match object; span=(0, 6), match='62,998'>\n"
     ]
    }
   ],
   "source": [
    "#regex expression for capturing only salary projection\n",
    "print(re.search(regpat,regtest))"
   ]
  }
 ],
 "metadata": {
  "kernelspec": {
   "display_name": "Python 3 (ipykernel)",
   "language": "python",
   "name": "python3"
  },
  "language_info": {
   "codemirror_mode": {
    "name": "ipython",
    "version": 3
   },
   "file_extension": ".py",
   "mimetype": "text/x-python",
   "name": "python",
   "nbconvert_exporter": "python",
   "pygments_lexer": "ipython3",
   "version": "3.7.11"
  }
 },
 "nbformat": 4,
 "nbformat_minor": 5
}
