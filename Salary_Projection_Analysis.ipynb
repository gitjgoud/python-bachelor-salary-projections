{
 "cells": [
  {
   "cell_type": "code",
   "execution_count": 1,
   "id": "d9699bb1",
   "metadata": {},
   "outputs": [],
   "source": [
    "import numpy as np\n",
    "import pandas as pd\n",
    "import re"
   ]
  },
  {
   "cell_type": "markdown",
   "id": "8ec816ab",
   "metadata": {},
   "source": [
    "Build the Avg_Salary_By_Discipline table"
   ]
  },
  {
   "cell_type": "code",
   "execution_count": null,
   "id": "a56ff633",
   "metadata": {},
   "outputs": [],
   "source": [
    "#convert discrete year text files into one CSV"
   ]
  },
  {
   "cell_type": "code",
   "execution_count": null,
   "id": "1256b34d",
   "metadata": {},
   "outputs": [],
   "source": [
    "with open('2015')"
   ]
  },
  {
   "cell_type": "code",
   "execution_count": 3,
   "id": "cd88484c",
   "metadata": {},
   "outputs": [
    {
     "name": "stdout",
     "output_type": "stream",
     "text": [
      "cat: 2015Avg: No such file or directory\r\n"
     ]
    }
   ],
   "source": [
    "!cat 2015Avg"
   ]
  }
 ],
 "metadata": {
  "kernelspec": {
   "display_name": "Python 3 (ipykernel)",
   "language": "python",
   "name": "python3"
  },
  "language_info": {
   "codemirror_mode": {
    "name": "ipython",
    "version": 3
   },
   "file_extension": ".py",
   "mimetype": "text/x-python",
   "name": "python",
   "nbconvert_exporter": "python",
   "pygments_lexer": "ipython3",
   "version": "3.7.11"
  }
 },
 "nbformat": 4,
 "nbformat_minor": 5
}
